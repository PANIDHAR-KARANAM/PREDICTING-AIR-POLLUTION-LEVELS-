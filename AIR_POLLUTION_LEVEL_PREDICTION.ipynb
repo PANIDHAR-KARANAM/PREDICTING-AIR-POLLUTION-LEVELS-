{
 "cells": [
  {
   "cell_type": "code",
   "execution_count": 15,
   "id": "353ae5d3",
   "metadata": {},
   "outputs": [],
   "source": [
    "# Import necessary modules\n",
    "import os\n",
    "import numpy as np\n",
    "import pandas as pd\n",
    "from sklearn.model_selection import train_test_split\n",
    "from sklearn.ensemble import RandomForestRegressor\n",
    "from sklearn.metrics import mean_squared_error"
   ]
  },
  {
   "cell_type": "code",
   "execution_count": 16,
   "id": "4b2bcdae",
   "metadata": {},
   "outputs": [],
   "source": [
    "# Load the data\n",
    "data = pd.read_csv(r\"C:\\Users\\chbal\\Downloads\\archive\\Air Pollution.csv\")\n",
    "\n",
    "# Preprocess the data if necessary\n",
    "# For this example, let's assume the data is already preprocessed"
   ]
  },
  {
   "cell_type": "code",
   "execution_count": 17,
   "id": "25850a9a",
   "metadata": {},
   "outputs": [
    {
     "data": {
      "text/html": [
       "<div>\n",
       "<style scoped>\n",
       "    .dataframe tbody tr th:only-of-type {\n",
       "        vertical-align: middle;\n",
       "    }\n",
       "\n",
       "    .dataframe tbody tr th {\n",
       "        vertical-align: top;\n",
       "    }\n",
       "\n",
       "    .dataframe thead th {\n",
       "        text-align: right;\n",
       "    }\n",
       "</style>\n",
       "<table border=\"1\" class=\"dataframe\">\n",
       "  <thead>\n",
       "    <tr style=\"text-align: right;\">\n",
       "      <th></th>\n",
       "      <th>Country Name</th>\n",
       "      <th>City</th>\n",
       "      <th>Year</th>\n",
       "      <th>PM2.5 (μg/m3)</th>\n",
       "      <th>PM10 (μg/m3)</th>\n",
       "      <th>NO2 (μg/m3)</th>\n",
       "      <th>PM25 temporal coverage (%)</th>\n",
       "      <th>PM10 temporal coverage (%)</th>\n",
       "      <th>NO2 temporal coverage (%)</th>\n",
       "      <th>Updated Year</th>\n",
       "    </tr>\n",
       "  </thead>\n",
       "  <tbody>\n",
       "    <tr>\n",
       "      <th>0</th>\n",
       "      <td>Afghanistan</td>\n",
       "      <td>Kabul</td>\n",
       "      <td>2019</td>\n",
       "      <td>119.77</td>\n",
       "      <td>NaN</td>\n",
       "      <td>NaN</td>\n",
       "      <td>18.0</td>\n",
       "      <td>NaN</td>\n",
       "      <td>NaN</td>\n",
       "      <td>2022</td>\n",
       "    </tr>\n",
       "    <tr>\n",
       "      <th>1</th>\n",
       "      <td>Albania</td>\n",
       "      <td>Durres</td>\n",
       "      <td>2015</td>\n",
       "      <td>NaN</td>\n",
       "      <td>17.65</td>\n",
       "      <td>26.63</td>\n",
       "      <td>NaN</td>\n",
       "      <td>NaN</td>\n",
       "      <td>83.961187</td>\n",
       "      <td>2022</td>\n",
       "    </tr>\n",
       "    <tr>\n",
       "      <th>2</th>\n",
       "      <td>Albania</td>\n",
       "      <td>Durres</td>\n",
       "      <td>2016</td>\n",
       "      <td>14.32</td>\n",
       "      <td>24.56</td>\n",
       "      <td>24.78</td>\n",
       "      <td>NaN</td>\n",
       "      <td>NaN</td>\n",
       "      <td>87.932605</td>\n",
       "      <td>2022</td>\n",
       "    </tr>\n",
       "    <tr>\n",
       "      <th>3</th>\n",
       "      <td>Albania</td>\n",
       "      <td>Elbasan</td>\n",
       "      <td>2015</td>\n",
       "      <td>NaN</td>\n",
       "      <td>NaN</td>\n",
       "      <td>23.96</td>\n",
       "      <td>NaN</td>\n",
       "      <td>NaN</td>\n",
       "      <td>97.853881</td>\n",
       "      <td>2022</td>\n",
       "    </tr>\n",
       "    <tr>\n",
       "      <th>4</th>\n",
       "      <td>Albania</td>\n",
       "      <td>Elbasan</td>\n",
       "      <td>2016</td>\n",
       "      <td>NaN</td>\n",
       "      <td>NaN</td>\n",
       "      <td>26.26</td>\n",
       "      <td>NaN</td>\n",
       "      <td>NaN</td>\n",
       "      <td>96.049636</td>\n",
       "      <td>2022</td>\n",
       "    </tr>\n",
       "  </tbody>\n",
       "</table>\n",
       "</div>"
      ],
      "text/plain": [
       "  Country Name     City  Year  PM2.5 (μg/m3)  PM10 (μg/m3)  NO2 (μg/m3)  \\\n",
       "0  Afghanistan    Kabul  2019         119.77           NaN          NaN   \n",
       "1      Albania   Durres  2015            NaN         17.65        26.63   \n",
       "2      Albania   Durres  2016          14.32         24.56        24.78   \n",
       "3      Albania  Elbasan  2015            NaN           NaN        23.96   \n",
       "4      Albania  Elbasan  2016            NaN           NaN        26.26   \n",
       "\n",
       "   PM25 temporal coverage (%)  PM10 temporal coverage (%)  \\\n",
       "0                        18.0                         NaN   \n",
       "1                         NaN                         NaN   \n",
       "2                         NaN                         NaN   \n",
       "3                         NaN                         NaN   \n",
       "4                         NaN                         NaN   \n",
       "\n",
       "   NO2 temporal coverage (%)  Updated Year  \n",
       "0                        NaN          2022  \n",
       "1                  83.961187          2022  \n",
       "2                  87.932605          2022  \n",
       "3                  97.853881          2022  \n",
       "4                  96.049636          2022  "
      ]
     },
     "execution_count": 17,
     "metadata": {},
     "output_type": "execute_result"
    }
   ],
   "source": [
    "data.head()"
   ]
  },
  {
   "cell_type": "code",
   "execution_count": 18,
   "id": "59f536f2",
   "metadata": {},
   "outputs": [
    {
     "name": "stdout",
     "output_type": "stream",
     "text": [
      "<class 'pandas.core.frame.DataFrame'>\n",
      "RangeIndex: 32191 entries, 0 to 32190\n",
      "Data columns (total 10 columns):\n",
      " #   Column                      Non-Null Count  Dtype  \n",
      "---  ------                      --------------  -----  \n",
      " 0   Country Name                32191 non-null  object \n",
      " 1   City                        32191 non-null  object \n",
      " 2   Year                        32191 non-null  int64  \n",
      " 3   PM2.5 (μg/m3)               15048 non-null  float64\n",
      " 4   PM10 (μg/m3)                21109 non-null  float64\n",
      " 5   NO2 (μg/m3)                 22200 non-null  float64\n",
      " 6   PM25 temporal coverage (%)  7275 non-null   float64\n",
      " 7   PM10 temporal coverage (%)  5381 non-null   float64\n",
      " 8   NO2 temporal coverage (%)   19890 non-null  float64\n",
      " 9   Updated Year                32191 non-null  int64  \n",
      "dtypes: float64(6), int64(2), object(2)\n",
      "memory usage: 2.5+ MB\n"
     ]
    }
   ],
   "source": [
    "data.info()"
   ]
  },
  {
   "cell_type": "code",
   "execution_count": 19,
   "id": "49eb766f",
   "metadata": {},
   "outputs": [
    {
     "data": {
      "text/plain": [
       "Country Name                  Viet Nam\n",
       "City                          Živinice\n",
       "Year                              2021\n",
       "PM2.5 (μg/m3)                    191.9\n",
       "PM10 (μg/m3)                     540.0\n",
       "NO2 (μg/m3)                     210.68\n",
       "PM25 temporal coverage (%)       100.0\n",
       "PM10 temporal coverage (%)       100.0\n",
       "NO2 temporal coverage (%)        100.0\n",
       "Updated Year                      2022\n",
       "dtype: object"
      ]
     },
     "execution_count": 19,
     "metadata": {},
     "output_type": "execute_result"
    }
   ],
   "source": [
    "data.max()\n"
   ]
  },
  {
   "cell_type": "code",
   "execution_count": 20,
   "id": "821b6c36",
   "metadata": {},
   "outputs": [
    {
     "data": {
      "text/plain": [
       "Country Name                  Afghanistan\n",
       "City                             A Coruna\n",
       "Year                                 2000\n",
       "PM2.5 (μg/m3)                        0.01\n",
       "PM10 (μg/m3)                         1.04\n",
       "NO2 (μg/m3)                           0.0\n",
       "PM25 temporal coverage (%)            0.0\n",
       "PM10 temporal coverage (%)       2.568493\n",
       "NO2 temporal coverage (%)        1.923077\n",
       "Updated Year                         2016\n",
       "dtype: object"
      ]
     },
     "execution_count": 20,
     "metadata": {},
     "output_type": "execute_result"
    }
   ],
   "source": [
    "data.min()"
   ]
  },
  {
   "cell_type": "code",
   "execution_count": 21,
   "id": "848b312b",
   "metadata": {},
   "outputs": [
    {
     "data": {
      "text/plain": [
       "Country Name                   118\n",
       "City                          6874\n",
       "Year                            21\n",
       "PM2.5 (μg/m3)                 4749\n",
       "PM10 (μg/m3)                  5081\n",
       "NO2 (μg/m3)                   4633\n",
       "PM25 temporal coverage (%)    2307\n",
       "PM10 temporal coverage (%)    2084\n",
       "NO2 temporal coverage (%)     6496\n",
       "Updated Year                     3\n",
       "dtype: int64"
      ]
     },
     "execution_count": 21,
     "metadata": {},
     "output_type": "execute_result"
    }
   ],
   "source": [
    "data.nunique()"
   ]
  },
  {
   "cell_type": "code",
   "execution_count": 22,
   "id": "85b60fa3",
   "metadata": {},
   "outputs": [],
   "source": [
    "from sklearn.preprocessing import StandardScaler, LabelEncoder\n",
    "\n",
    "labelencoder=LabelEncoder()\n",
    "\n",
    "object_list = data.select_dtypes(include='object').columns\n",
    "for column in object_list:\n",
    "    data[column]=labelencoder.fit_transform(data[column])"
   ]
  },
  {
   "cell_type": "code",
   "execution_count": 23,
   "id": "96e61cc8",
   "metadata": {},
   "outputs": [],
   "source": [
    "numeric_list = data.select_dtypes(include='float64').columns\n",
    "\n",
    "for column in numeric_list:\n",
    "    data[column].fillna(data[column].mean(), inplace=True)"
   ]
  },
  {
   "cell_type": "code",
   "execution_count": 24,
   "id": "86d4edfc",
   "metadata": {},
   "outputs": [],
   "source": [
    "category=['1','2', '3', '4', '5', '6']\n",
    "data['Level']=pd.cut(data['PM10 (μg/m3)'], [0,54, 154, 254, 354, 424, 540], labels=category)"
   ]
  },
  {
   "cell_type": "code",
   "execution_count": 25,
   "id": "afb100c5",
   "metadata": {},
   "outputs": [
    {
     "data": {
      "text/html": [
       "<div>\n",
       "<style scoped>\n",
       "    .dataframe tbody tr th:only-of-type {\n",
       "        vertical-align: middle;\n",
       "    }\n",
       "\n",
       "    .dataframe tbody tr th {\n",
       "        vertical-align: top;\n",
       "    }\n",
       "\n",
       "    .dataframe thead th {\n",
       "        text-align: right;\n",
       "    }\n",
       "</style>\n",
       "<table border=\"1\" class=\"dataframe\">\n",
       "  <thead>\n",
       "    <tr style=\"text-align: right;\">\n",
       "      <th></th>\n",
       "      <th>Country Name</th>\n",
       "      <th>City</th>\n",
       "      <th>Year</th>\n",
       "      <th>PM2.5 (μg/m3)</th>\n",
       "      <th>PM10 (μg/m3)</th>\n",
       "      <th>NO2 (μg/m3)</th>\n",
       "      <th>PM25 temporal coverage (%)</th>\n",
       "      <th>PM10 temporal coverage (%)</th>\n",
       "      <th>NO2 temporal coverage (%)</th>\n",
       "      <th>Updated Year</th>\n",
       "      <th>Level</th>\n",
       "    </tr>\n",
       "  </thead>\n",
       "  <tbody>\n",
       "    <tr>\n",
       "      <th>0</th>\n",
       "      <td>0</td>\n",
       "      <td>2782</td>\n",
       "      <td>2019</td>\n",
       "      <td>119.77000</td>\n",
       "      <td>30.533252</td>\n",
       "      <td>20.619336</td>\n",
       "      <td>18.000000</td>\n",
       "      <td>90.5835</td>\n",
       "      <td>93.696804</td>\n",
       "      <td>2022</td>\n",
       "      <td>1</td>\n",
       "    </tr>\n",
       "    <tr>\n",
       "      <th>1</th>\n",
       "      <td>1</td>\n",
       "      <td>1613</td>\n",
       "      <td>2015</td>\n",
       "      <td>22.92032</td>\n",
       "      <td>17.650000</td>\n",
       "      <td>26.630000</td>\n",
       "      <td>90.794096</td>\n",
       "      <td>90.5835</td>\n",
       "      <td>83.961187</td>\n",
       "      <td>2022</td>\n",
       "      <td>1</td>\n",
       "    </tr>\n",
       "    <tr>\n",
       "      <th>2</th>\n",
       "      <td>1</td>\n",
       "      <td>1613</td>\n",
       "      <td>2016</td>\n",
       "      <td>14.32000</td>\n",
       "      <td>24.560000</td>\n",
       "      <td>24.780000</td>\n",
       "      <td>90.794096</td>\n",
       "      <td>90.5835</td>\n",
       "      <td>87.932605</td>\n",
       "      <td>2022</td>\n",
       "      <td>1</td>\n",
       "    </tr>\n",
       "    <tr>\n",
       "      <th>3</th>\n",
       "      <td>1</td>\n",
       "      <td>1667</td>\n",
       "      <td>2015</td>\n",
       "      <td>22.92032</td>\n",
       "      <td>30.533252</td>\n",
       "      <td>23.960000</td>\n",
       "      <td>90.794096</td>\n",
       "      <td>90.5835</td>\n",
       "      <td>97.853881</td>\n",
       "      <td>2022</td>\n",
       "      <td>1</td>\n",
       "    </tr>\n",
       "    <tr>\n",
       "      <th>4</th>\n",
       "      <td>1</td>\n",
       "      <td>1667</td>\n",
       "      <td>2016</td>\n",
       "      <td>22.92032</td>\n",
       "      <td>30.533252</td>\n",
       "      <td>26.260000</td>\n",
       "      <td>90.794096</td>\n",
       "      <td>90.5835</td>\n",
       "      <td>96.049636</td>\n",
       "      <td>2022</td>\n",
       "      <td>1</td>\n",
       "    </tr>\n",
       "  </tbody>\n",
       "</table>\n",
       "</div>"
      ],
      "text/plain": [
       "   Country Name  City  Year  PM2.5 (μg/m3)  PM10 (μg/m3)  NO2 (μg/m3)  \\\n",
       "0             0  2782  2019      119.77000     30.533252    20.619336   \n",
       "1             1  1613  2015       22.92032     17.650000    26.630000   \n",
       "2             1  1613  2016       14.32000     24.560000    24.780000   \n",
       "3             1  1667  2015       22.92032     30.533252    23.960000   \n",
       "4             1  1667  2016       22.92032     30.533252    26.260000   \n",
       "\n",
       "   PM25 temporal coverage (%)  PM10 temporal coverage (%)  \\\n",
       "0                   18.000000                     90.5835   \n",
       "1                   90.794096                     90.5835   \n",
       "2                   90.794096                     90.5835   \n",
       "3                   90.794096                     90.5835   \n",
       "4                   90.794096                     90.5835   \n",
       "\n",
       "   NO2 temporal coverage (%)  Updated Year Level  \n",
       "0                  93.696804          2022     1  \n",
       "1                  83.961187          2022     1  \n",
       "2                  87.932605          2022     1  \n",
       "3                  97.853881          2022     1  \n",
       "4                  96.049636          2022     1  "
      ]
     },
     "execution_count": 25,
     "metadata": {},
     "output_type": "execute_result"
    }
   ],
   "source": [
    "data.head()"
   ]
  },
  {
   "cell_type": "code",
   "execution_count": 26,
   "id": "a1144253",
   "metadata": {},
   "outputs": [
    {
     "name": "stdout",
     "output_type": "stream",
     "text": [
      "1    30131\n",
      "2     1817\n",
      "3      215\n",
      "4       22\n",
      "6        4\n",
      "5        2\n",
      "Name: Level, dtype: int64\n"
     ]
    }
   ],
   "source": [
    "import matplotlib.pyplot as plt\n",
    "level = data['Level'].value_counts()\n",
    "print(level)"
   ]
  },
  {
   "cell_type": "code",
   "execution_count": 27,
   "id": "31c6bc18",
   "metadata": {},
   "outputs": [],
   "source": [
    "level = data['Level'].value_counts()"
   ]
  },
  {
   "cell_type": "code",
   "execution_count": 28,
   "id": "23e4ef2a",
   "metadata": {},
   "outputs": [],
   "source": [
    "data = data.apply(pd.to_numeric)"
   ]
  },
  {
   "cell_type": "code",
   "execution_count": 29,
   "id": "8fa81011",
   "metadata": {},
   "outputs": [
    {
     "data": {
      "text/plain": [
       "<AxesSubplot:>"
      ]
     },
     "execution_count": 29,
     "metadata": {},
     "output_type": "execute_result"
    },
    {
     "data": {
      "image/png": "[encoded data removed]",
      "text/plain": [
       "<Figure size 720x576 with 2 Axes>"
      ]
     },
     "metadata": {
      "needs_background": "light"
     },
     "output_type": "display_data"
    }
   ],
   "source": [
    "import seaborn as sns\n",
    "\n",
    "plt.figure(figsize=(10,8))\n",
    "sns.heatmap(data.corr(), annot = True)"
   ]
  },
  {
   "cell_type": "code",
   "execution_count": 30,
   "id": "36a94ed6",
   "metadata": {},
   "outputs": [],
   "source": [
    "data.drop(columns = ['Country Name', 'City'], inplace=True)"
   ]
  },
  {
   "cell_type": "code",
   "execution_count": 31,
   "id": "8c6e0e88",
   "metadata": {},
   "outputs": [],
   "source": [
    "feature = data.drop('Level', axis=1)\n",
    "target = data['Level']\n",
    "\n",
    "from sklearn.model_selection import train_test_split\n",
    "X_train, X_test, y_train, y_test = train_test_split(feature , target,test_size=0.25,random_state=10)"
   ]
  },
  {
   "cell_type": "code",
   "execution_count": 32,
   "id": "f2f8f6b0",
   "metadata": {},
   "outputs": [],
   "source": [
    "from sklearn.metrics import precision_score, recall_score, f1_score, accuracy_score, matthews_corrcoef\n",
    "from sklearn.preprocessing import StandardScaler"
   ]
  },
  {
   "cell_type": "code",
   "execution_count": 37,
   "id": "99649dd3",
   "metadata": {},
   "outputs": [],
   "source": [
    "#decision tree\n",
    "from sklearn.tree import DecisionTreeClassifier\n",
    "model_dt=DecisionTreeClassifier(class_weight='balanced', max_depth=3)\n",
    "model_dt.fit(X_train,y_train)\n",
    "y_pred = model_dt.predict(X_test)\n"
   ]
  },
  {
   "cell_type": "code",
   "execution_count": 34,
   "id": "791fb7c2",
   "metadata": {},
   "outputs": [
    {
     "name": "stdout",
     "output_type": "stream",
     "text": [
      "Classification Report\n",
      "              precision    recall  f1-score   support\n",
      "\n",
      "     Level 1       1.00      1.00      1.00      7562\n",
      "     Level 2       0.90      1.00      0.95       435\n",
      "     Level 3       0.00      0.00      0.00        47\n",
      "     Level 4       0.00      0.00      0.00         2\n",
      "     Level 5       0.00      0.00      0.00         0\n",
      "     Level 6       1.00      1.00      1.00         2\n",
      "\n",
      "   micro avg       0.99      0.99      0.99      8048\n",
      "   macro avg       0.48      0.50      0.49      8048\n",
      "weighted avg       0.99      0.99      0.99      8048\n",
      "\n"
     ]
    },
    {
     "name": "stderr",
     "output_type": "stream",
     "text": [
      "C:\\Users\\chbal\\anaconda3\\lib\\site-packages\\sklearn\\metrics\\_classification.py:1245: UndefinedMetricWarning: Precision and F-score are ill-defined and being set to 0.0 in labels with no predicted samples. Use `zero_division` parameter to control this behavior.\n",
      "  _warn_prf(average, modifier, msg_start, len(result))\n",
      "C:\\Users\\chbal\\anaconda3\\lib\\site-packages\\sklearn\\metrics\\_classification.py:1245: UndefinedMetricWarning: Recall and F-score are ill-defined and being set to 0.0 in labels with no true samples. Use `zero_division` parameter to control this behavior.\n",
      "  _warn_prf(average, modifier, msg_start, len(result))\n",
      "C:\\Users\\chbal\\anaconda3\\lib\\site-packages\\sklearn\\metrics\\_classification.py:1245: UndefinedMetricWarning: Precision and F-score are ill-defined and being set to 0.0 in labels with no predicted samples. Use `zero_division` parameter to control this behavior.\n",
      "  _warn_prf(average, modifier, msg_start, len(result))\n",
      "C:\\Users\\chbal\\anaconda3\\lib\\site-packages\\sklearn\\metrics\\_classification.py:1245: UndefinedMetricWarning: Recall and F-score are ill-defined and being set to 0.0 in labels with no true samples. Use `zero_division` parameter to control this behavior.\n",
      "  _warn_prf(average, modifier, msg_start, len(result))\n",
      "C:\\Users\\chbal\\anaconda3\\lib\\site-packages\\sklearn\\metrics\\_classification.py:1245: UndefinedMetricWarning: Precision and F-score are ill-defined and being set to 0.0 in labels with no predicted samples. Use `zero_division` parameter to control this behavior.\n",
      "  _warn_prf(average, modifier, msg_start, len(result))\n",
      "C:\\Users\\chbal\\anaconda3\\lib\\site-packages\\sklearn\\metrics\\_classification.py:1245: UndefinedMetricWarning: Recall and F-score are ill-defined and being set to 0.0 in labels with no true samples. Use `zero_division` parameter to control this behavior.\n",
      "  _warn_prf(average, modifier, msg_start, len(result))\n"
     ]
    }
   ],
   "source": [
    "from sklearn.metrics import classification_report\n",
    "print('Classification Report')\n",
    "print(classification_report(y_test, y_pred, labels =[1,2,3,4,5,6], target_names=['Level 1', 'Level 2', 'Level 3', 'Level 4', 'Level 5','Level 6']))"
   ]
  },
  {
   "cell_type": "code",
   "execution_count": 35,
   "id": "a746467f",
   "metadata": {},
   "outputs": [
    {
     "name": "stdout",
     "output_type": "stream",
     "text": [
      "Accuracy: 0.9649591281999748\n"
     ]
    }
   ],
   "source": [
    "from sklearn.neighbors import KNeighborsRegressor\n",
    "from sklearn.metrics import r2_score\n",
    "\n",
    "knn = KNeighborsRegressor()\n",
    "knn.fit(X_train, y_train)\n",
    "y_pred = knn.predict(X_test)\n",
    "\n",
    "print('Accuracy:',r2_score(y_test,y_pred))"
   ]
  },
  {
   "cell_type": "code",
   "execution_count": null,
   "id": "dfcddf8a",
   "metadata": {},
   "outputs": [],
   "source": []
  }
 ],
 "metadata": {
  "kernelspec": {
   "display_name": "Python 3",
   "language": "python",
   "name": "python3"
  },
  "language_info": {
   "codemirror_mode": {
    "name": "ipython",
    "version": 3
   },
   "file_extension": ".py",
   "mimetype": "text/x-python",
   "name": "python",
   "nbconvert_exporter": "python",
   "pygments_lexer": "ipython3",
   "version": "3.8.8"
  }
 },
 "nbformat": 4,
 "nbformat_minor": 5
}
